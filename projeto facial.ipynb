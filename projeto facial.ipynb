{
 "cells": [
  {
   "cell_type": "code",
   "execution_count": null,
   "metadata": {},
   "outputs": [],
   "source": [
    "!pip install opencv-python==4.6.0.66\n",
    "!pip install mediapipe==0.8.11\n",
    "!pip install numpy==1.22.3"
   ]
  },
  {
   "cell_type": "code",
   "execution_count": 16,
   "metadata": {},
   "outputs": [],
   "source": [
    "import cv2\n",
    "import mediapipe as mp\n",
    "import numpy as np\n",
    "import time"
   ]
  },
  {
   "cell_type": "code",
   "execution_count": 17,
   "metadata": {},
   "outputs": [],
   "source": [
    "mp_drawing = mp.solutions.drawing_utils\n",
    "mp_face_mesh = mp.solutions.face_mesh"
   ]
  },
  {
   "cell_type": "code",
   "execution_count": 18,
   "metadata": {},
   "outputs": [],
   "source": [
    "p_olho_esq = [385, 380, 387, 373, 362, 263]\n",
    "p_olho_dir = [160, 144, 158, 153, 33, 133]"
   ]
  },
  {
   "cell_type": "code",
   "execution_count": 19,
   "metadata": {},
   "outputs": [
    {
     "data": {
      "text/plain": [
       "[385, 380, 387, 373, 362, 263, 160, 144, 158, 153, 33, 133]"
      ]
     },
     "execution_count": 19,
     "metadata": {},
     "output_type": "execute_result"
    }
   ],
   "source": [
    "p_olhos = p_olho_esq + p_olho_dir\n",
    "p_olhos"
   ]
  },
  {
   "cell_type": "code",
   "execution_count": 20,
   "metadata": {},
   "outputs": [],
   "source": [
    "def calculo_ear(face, p_olho_dir, p_olho_esq):\n",
    "    try:\n",
    "        face = np.array([[coord.x, coord.y] for coord in face])\n",
    "        face_esq = face[p_olho_esq, :]\n",
    "        face_dir = face[p_olho_dir, :]\n",
    "\n",
    "        ear_esq = (np.linalg.norm(face_esq[0]-face_esq[1])+np.linalg.norm(face_esq[2]-face_esq[3]))/(2*(np.linalg.norm(face_esq[4]-face_esq[5])))\n",
    "        ear_dir = (np.linalg.norm(face_dir[0]-face_dir[1])+np.linalg.norm(face_dir[2]-face_dir[3]))/(2*(np.linalg.norm(face_dir[4]-face_dir[5])))\n",
    "    except:\n",
    "        ear_esq = 0.0\n",
    "        ear_dir = 0.0\n",
    "    media_ear = (ear_esq + ear_dir)/2\n",
    "    return media_ear"
   ]
  },
  {
   "cell_type": "code",
   "execution_count": 22,
   "metadata": {},
   "outputs": [],
   "source": [
    "ear_limiar = 0.3\n",
    "dormindo = 0\n",
    "\n",
    "cap = cv2.VideoCapture(0)\n",
    "\n",
    "with mp_face_mesh.FaceMesh(min_detection_confidence=0.5, min_tracking_confidence=0.5) as facemesh:\n",
    "    while cap.isOpened():\n",
    "        sucesso, frame = cap.read()\n",
    "        if not sucesso:\n",
    "            print(\"Ignorando o frame vazio da camera.\")\n",
    "            continue\n",
    "        comprimento, largura, _ = frame.shape\n",
    "\n",
    "        frame = cv2.cvtColor(frame,cv2.COLOR_BGR2RGB)\n",
    "        saida_facemesh =facemesh. process(frame)\n",
    "        frame = cv2.cvtColor(frame,cv2.COLOR_RGB2BGR)\n",
    "\n",
    "        try:\n",
    "            for face_landmarks in saida_facemesh.multi_face_landmarks:\n",
    "                mp_drawing.draw_landmarks (frame, face_landmarks, mp_face_mesh.FACEMESH_CONTOURS,\n",
    "                    landmark_drawing_spec = mp_drawing.DrawingSpec(color=(255,102,102),thickness=1,circle_radius=1),\n",
    "                    connection_drawing_spec = mp_drawing.DrawingSpec(color=(102,204,0),thickness=1,circle_radius=1))\n",
    "                face = face_landmarks.landmark\n",
    "                for id_coord, coord_xyz in enumerate(face):\n",
    "                    if id_coord in p_olhos:\n",
    "                        coord_cv = mp_drawing._normalized_to_pixel_coordinates(coord_xyz.x, coord_xyz.y, largura, comprimento)\n",
    "                        cv2.circle(frame, coord_cv, 2, (255,0,0), -1)\n",
    "                ear = calculo_ear(face, p_olho_dir, p_olho_esq)\n",
    "                cv2.rectangle(frame, (0,1), (290,140), (58,58,55), -1)\n",
    "                cv2.putText(frame, f\"EAR: {round(ear, 2)}\", (1, 24), \n",
    "                                cv2.FONT_HERSHEY_DUPLEX,\n",
    "                                0.9, (255, 255, 255), 2)\n",
    "                if ear < ear_limiar:\n",
    "                    t_inicial = time.time() if dormindo == 0 else t_inicial\n",
    "                    dormindo = 1\n",
    "                if dormindo == 1 and ear >= ear_limiar:\n",
    "                    dormindo = 0\n",
    "                t_final = time.time()\n",
    "\n",
    "                tempo = (t_final - t_inicial) if dormindo == 1 else 0.0\n",
    "                cv2.putText(frame, f\"Tempo: {round(tempo, 3)}\", (1, 80), \n",
    "                                cv2.FONT_HERSHEY_DUPLEX,\n",
    "                                0.9, (255, 255, 255), 2)\n",
    "                if tempo >= 1.5:\n",
    "                    cv2.rectangle(frame, (30, 400), (610, 452), (109, 233, 219), -1)\n",
    "                    cv2.putText(frame, f\"Muito tempo com olhos fechados!\", (80, 435),\n",
    "                                    cv2.FONT_HERSHEY_DUPLEX,\n",
    "                                    0.85, (58,58,55), 1)\n",
    "\n",
    "        except:\n",
    "            pass\n",
    "            \n",
    "        cv2.imshow(\"Camera\", frame)\n",
    "        if cv2.waitKey(10) & 0xFF == ord(\"c\"):\n",
    "            break\n",
    "cap.release()\n",
    "cv2.destroyAllWindows()"
   ]
  },
  {
   "cell_type": "code",
   "execution_count": null,
   "metadata": {},
   "outputs": [],
   "source": [
    "for face_landmarks in saida_facemesh.multi_face_landmarks:\n",
    "    face = face_landmarks\n",
    "    for id_coord, coord_xyz in enumerate(face.landmark):\n",
    "        print(id_coord)"
   ]
  },
  {
   "cell_type": "code",
   "execution_count": null,
   "metadata": {},
   "outputs": [],
   "source": []
  }
 ],
 "metadata": {
  "kernelspec": {
   "display_name": "base",
   "language": "python",
   "name": "python3"
  },
  "language_info": {
   "codemirror_mode": {
    "name": "ipython",
    "version": 3
   },
   "file_extension": ".py",
   "mimetype": "text/x-python",
   "name": "python",
   "nbconvert_exporter": "python",
   "pygments_lexer": "ipython3",
   "version": "3.9.13"
  },
  "orig_nbformat": 4,
  "vscode": {
   "interpreter": {
    "hash": "d7b159c28ffff25b3dab2b495e3115715e53286097ed4aa1e82bd18bbe709af4"
   }
  }
 },
 "nbformat": 4,
 "nbformat_minor": 2
}
